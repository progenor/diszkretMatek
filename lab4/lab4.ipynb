{
 "cells": [
  {
   "cell_type": "markdown",
   "metadata": {},
   "source": [
    "[Lab4](https://www.ms.sapientia.ro/~mgyongyi/DiszkretMat/feladatok4.html)"
   ]
  },
  {
   "cell_type": "code",
   "execution_count": 9,
   "metadata": {},
   "outputs": [
    {
     "name": "stdout",
     "output_type": "stream",
     "text": [
      "1 2 2 3 3 "
     ]
    }
   ],
   "source": [
    "def reapeat_pattern(k):\n",
    "    i = 1\n",
    "    while True:\n",
    "        for _ in range(i):\n",
    "            print(i, end=' ')\n",
    "            k -= 1\n",
    "            if k==0:\n",
    "                return\n",
    "        i += 1\n",
    "reapeat_pattern(5)"
   ]
  },
  {
   "cell_type": "code",
   "execution_count": 11,
   "metadata": {},
   "outputs": [],
   "source": [
    "def reapeat_patternFile(k):\n",
    "    i = 1\n",
    "    with open('output.txt', 'w') as f:\n",
    "        while True:\n",
    "            for _ in range(i):\n",
    "                print(i, end='\\n', file = f)\n",
    "                k -= 1\n",
    "                if k==0:\n",
    "                    return\n",
    "            i += 1\n",
    "reapeat_patternFile(100)"
   ]
  },
  {
   "cell_type": "markdown",
   "metadata": {},
   "source": [
    "[output](./output.txt)"
   ]
  },
  {
   "cell_type": "code",
   "execution_count": 31,
   "metadata": {},
   "outputs": [
    {
     "name": "stdout",
     "output_type": "stream",
     "text": [
      "[1, 2, 2, 3, 3, 3, 4, 4, 4, 4]\n"
     ]
    }
   ],
   "source": [
    "def repeat_patternList(k):\n",
    "    i = 1\n",
    "    lis = []\n",
    "    while True:\n",
    "        for _ in range(i):\n",
    "            # print(i, end='\\n', file = f)\n",
    "            lis.append(i)\n",
    "            k -= 1\n",
    "            if k==0:\n",
    "                return lis\n",
    "        i += 1\n",
    "print(repeat_patternList(10))"
   ]
  },
  {
   "cell_type": "code",
   "execution_count": 53,
   "metadata": {},
   "outputs": [
    {
     "data": {
      "text/plain": [
       "209.63815524781072"
      ]
     },
     "execution_count": 53,
     "metadata": {},
     "output_type": "execute_result"
    }
   ],
   "source": [
    "import math\n",
    "def fibonacci(n):\n",
    "    a, b = 0, 1\n",
    "    for _ in range(n):\n",
    "        # print(a, end=' ')\n",
    "        a, b = b, a+b\n",
    "    return a\n",
    "math.log10(fibonacci(1000)) + 1"
   ]
  },
  {
   "cell_type": "code",
   "execution_count": 52,
   "metadata": {},
   "outputs": [
    {
     "name": "stdout",
     "output_type": "stream",
     "text": [
      "2568\n",
      "2568\n"
     ]
    }
   ],
   "source": [
    "import math\n",
    "def faktorialis(n):\n",
    "    osszeg  = sum([math.log10(i) for i in range(1, n+1)])\n",
    "    return int(osszeg) + 1\n",
    "print(faktorialis(1000))\n",
    "\n",
    "def faktorialis2(n):\n",
    "    osszeg = len(str(math.factorial(n)))\n",
    "    return osszeg\n",
    "print(faktorialis2(1000))"
   ]
  },
  {
   "cell_type": "code",
   "execution_count": 63,
   "metadata": {},
   "outputs": [
    {
     "name": "stdout",
     "output_type": "stream",
     "text": [
      "(627874, 627874)\n"
     ]
    }
   ],
   "source": [
    "def check1(n):\n",
    "    n1 = sum([i*i for i in range(1, n+1)])\n",
    "    n2 = n*(n+1)*(2*n+1)//6\n",
    "    return n1, n2\n",
    "\n",
    "def check2(n):\n",
    "    n1 = sum([i*i for i in range(1, n+1)])\n",
    "    n2 = n*n(n+1)*(n+1)//4\n",
    "    return n1, n2\n",
    "\n",
    "\n",
    "print(check1(123))\n",
    "# print(check2(123))"
   ]
  },
  {
   "cell_type": "code",
   "execution_count": 68,
   "metadata": {},
   "outputs": [
    {
     "name": "stdout",
     "output_type": "stream",
     "text": [
      "1024\n",
      "10\n"
     ]
    }
   ],
   "source": [
    "def myPow(x , n):\n",
    "    res = 1\n",
    "    while n != 0:\n",
    "        if n % 2 != 0:\n",
    "            res *= x\n",
    "        n //= 2\n",
    "        x *= x\n",
    "    return res\n",
    "\n",
    "def myPowCount(x , n):\n",
    "    count = 0\n",
    "    while n != 0:\n",
    "        if n % 2 != 0:\n",
    "            count += 1\n",
    "        n //= 2\n",
    "        count += 1\n",
    "    return count\n",
    "\n",
    "\n",
    "\n",
    "print(myPow(2, 10))\n",
    "print(myPowCount(3, 100))    \n",
    "\n",
    "    "
   ]
  },
  {
   "cell_type": "code",
   "execution_count": 70,
   "metadata": {},
   "outputs": [
    {
     "data": {
      "text/plain": [
       "'1100100'"
      ]
     },
     "execution_count": 70,
     "metadata": {},
     "output_type": "execute_result"
    }
   ],
   "source": [
    "bin(100)[2:]"
   ]
  }
 ],
 "metadata": {
  "kernelspec": {
   "display_name": "Python 3",
   "language": "python",
   "name": "python3"
  },
  "language_info": {
   "codemirror_mode": {
    "name": "ipython",
    "version": 3
   },
   "file_extension": ".py",
   "mimetype": "text/x-python",
   "name": "python",
   "nbconvert_exporter": "python",
   "pygments_lexer": "ipython3",
   "version": "3.11.5"
  }
 },
 "nbformat": 4,
 "nbformat_minor": 2
}
