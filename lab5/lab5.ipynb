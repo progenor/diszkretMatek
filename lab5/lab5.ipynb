{
 "cells": [
  {
   "cell_type": "code",
   "execution_count": 4,
   "metadata": {},
   "outputs": [],
   "source": [
    "from pygame.locals import *\n",
    "import pygame\n",
    "\n",
    "def mainMa():\n",
    "    width, height = 600, 600\n",
    "    screen = pygame.display.set_mode((width,height),DOUBLEBUF)\n",
    "    xaxis = width / 1.5\n",
    "    yaxis = height / 2\n",
    "    scale = 190\n",
    "    iterations = 40\n",
    "    for iy in range(height):\n",
    "        for ix in range(width):\n",
    "            c = complex((ix - xaxis)/scale, (iy - yaxis)/scale)\n",
    "            z = c\n",
    "            for i in range(iterations):\n",
    "                z = z**2 + c\n",
    "                if abs(z) > 2:\n",
    "                    color = (255, 255, 255)\n",
    "                    break #end for\n",
    "            if abs(z) <= 2:\n",
    "                color = (0, 0, 0)\n",
    "            screen.set_at((ix, iy), color)\n",
    "            screen.set_at((ix, height - iy), color) #end for, for\n",
    "\n",
    "    pygame.display.update()\n",
    "    while True:\n",
    "        event = pygame.event.poll()\n",
    "        if event.type == QUIT or event.type == KEYDOWN and event.key == K_ESCAPE:\n",
    "            break #end def\n",
    "\n",
    "mainMa()\n",
    "pygame.quit()"
   ]
  }
 ],
 "metadata": {
  "kernelspec": {
   "display_name": "Python 3",
   "language": "python",
   "name": "python3"
  },
  "language_info": {
   "codemirror_mode": {
    "name": "ipython",
    "version": 3
   },
   "file_extension": ".py",
   "mimetype": "text/x-python",
   "name": "python",
   "nbconvert_exporter": "python",
   "pygments_lexer": "ipython3",
   "version": "3.11.5"
  }
 },
 "nbformat": 4,
 "nbformat_minor": 2
}
