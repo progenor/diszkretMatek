{
 "cells": [
  {
   "cell_type": "code",
   "execution_count": 4,
   "metadata": {},
   "outputs": [],
   "source": [
    "from pygame.locals import *\n",
    "import pygame\n",
    "\n",
    "def mainMa():\n",
    "    width, height = 600, 600\n",
    "    screen = pygame.display.set_mode((width,height),DOUBLEBUF)\n",
    "    xaxis = width / 1.5\n",
    "    yaxis = height / 2\n",
    "    scale = 190\n",
    "    iterations = 40\n",
    "    for iy in range(height):\n",
    "        for ix in range(width):\n",
    "            c = complex((ix - xaxis)/scale, (iy - yaxis)/scale)\n",
    "            z = c\n",
    "            for i in range(iterations):\n",
    "                z = z**2 + c\n",
    "                if abs(z) > 2:\n",
    "                    color = (255, 255, 255)\n",
    "                    break #end for\n",
    "            if abs(z) <= 2:\n",
    "                color = (0, 0, 0)\n",
    "            screen.set_at((ix, iy), color)\n",
    "            screen.set_at((ix, height - iy), color) #end for, for\n",
    "\n",
    "    pygame.display.update()\n",
    "    while True:\n",
    "        event = pygame.event.poll()\n",
    "        if event.type == QUIT or event.type == KEYDOWN and event.key == K_ESCAPE:\n",
    "            break #end def\n",
    "\n",
    "mainMa()\n",
    "pygame.quit()"
   ]
  },
  {
   "cell_type": "code",
   "execution_count": 13,
   "metadata": {},
   "outputs": [
    {
     "data": {
      "text/plain": [
       "Decimal('1.6180339887498948482045868343656381177203091798057628621354486227052604628189024497072072041893911374847540880753868917521266338622235369317931800607667263544333890865959395829056383226613199282902678806752087668925017116962070322210432162695486262963136144381497587012203408058879544547492461856953648644492410443207713449470495658467885098743394422125448770664780915884607499887124007652170575179788341662562494075890697040002812104276217711177780531531714101170466659914669798731761356006708748071')"
      ]
     },
     "execution_count": 13,
     "metadata": {},
     "output_type": "execute_result"
    }
   ],
   "source": [
    "# import decimal\n",
    "from decimal import Decimal, getcontext\n",
    "# import getcontext\n",
    "\n",
    "def my_fi():\n",
    "    getcontext().prec=500\n",
    "    f0=Decimal(0)\n",
    "    f1=1\n",
    "    for i in range(20000):\n",
    "        f = f0+f1\n",
    "        f0=f1\n",
    "        f1=f\n",
    "    return f1/f0\n",
    "\n",
    "my_fi()"
   ]
  }
 ],
 "metadata": {
  "kernelspec": {
   "display_name": "Python 3",
   "language": "python",
   "name": "python3"
  },
  "language_info": {
   "codemirror_mode": {
    "name": "ipython",
    "version": 3
   },
   "file_extension": ".py",
   "mimetype": "text/x-python",
   "name": "python",
   "nbconvert_exporter": "python",
   "pygments_lexer": "ipython3",
   "version": "3.11.5"
  }
 },
 "nbformat": 4,
 "nbformat_minor": 2
}
