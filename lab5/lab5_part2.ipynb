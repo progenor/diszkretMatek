{
 "cells": [
  {
   "cell_type": "code",
   "execution_count": 2,
   "metadata": {},
   "outputs": [],
   "source": [
    "def nrToBaseB(nr, b):\n",
    "    L = []\n",
    "    while nr > 0:\n",
    "        L = [nr % b] + L\n",
    "        nr = nr // b\n",
    "    return L    "
   ]
  },
  {
   "cell_type": "markdown",
   "metadata": {},
   "source": [
    "# 3 Adjuk meg a számrendszerek közötti átalakító függvények rekurzív változatát."
   ]
  },
  {
   "cell_type": "code",
   "execution_count": 1,
   "metadata": {},
   "outputs": [
    {
     "data": {
      "text/plain": [
       "[1, 0, 1, 0]"
      ]
     },
     "execution_count": 1,
     "metadata": {},
     "output_type": "execute_result"
    }
   ],
   "source": [
    "def nrToBaseRec(nr, b):\n",
    "    if nr == 0:\n",
    "        return []\n",
    "    return nrToBaseRec(nr // b, b) + [nr % b]\n",
    "\n",
    "nrToBaseRec(10, 2)"
   ]
  },
  {
   "cell_type": "code",
   "execution_count": null,
   "metadata": {},
   "outputs": [],
   "source": [
    "def convert_to_base_recursive(n, base):\n",
    "    \"\"\"Converts a decimal number n to the specified base recursively.\"\"\"\n",
    "    digits = \"0123456789ABCDEFGHIJKLMNOPQRSTUVWXYZ\"\n",
    "    if n < base:\n",
    "        return digits[n]\n",
    "    else:\n",
    "        return convert_to_base_recursive(n // base, base) + digits[n % base]\n",
    "\n",
    "# Example call\n",
    "number = 255\n",
    "base = 16\n",
    "print(f\"The number {number} in base {base} is: {convert_to_base_recursive(number, base)}\")\n"
   ]
  },
  {
   "cell_type": "code",
   "execution_count": null,
   "metadata": {},
   "outputs": [],
   "source": [
    "def fibonacci_sequence_up_to(n):\n",
    "    \"\"\"Generates Fibonacci numbers up to n.\"\"\"\n",
    "    fibs = [1, 2]  # Starting from 1, 2 for Fibonacci numeral system (Zeckendorf representation)\n",
    "    while fibs[-1] < n:\n",
    "        fibs.append(fibs[-1] + fibs[-2])\n",
    "    return fibs[::-1]  # Reverse for easier subtraction\n",
    "\n",
    "def fibonacci_representation(n):\n",
    "    \"\"\"Finds Fibonacci representation of a number as a sum of distinct Fibonacci numbers.\"\"\"\n",
    "    fibs = fibonacci_sequence_up_to(n)\n",
    "    representation = []\n",
    "    for f in fibs:\n",
    "        if f <= n:\n",
    "            representation.append(f)\n",
    "            n -= f\n",
    "    return representation\n",
    "\n",
    "def fibonacci_numeral_system(n):\n",
    "    \"\"\"Returns the binary representation in Fibonacci numeral system.\"\"\"\n",
    "    fibs = fibonacci_sequence_up_to(n)\n",
    "    binary_rep = \"\"\n",
    "    for f in fibs:\n",
    "        if f <= n:\n",
    "            binary_rep += \"1\"\n",
    "            n -= f\n",
    "        else:\n",
    "            binary_rep += \"0\"\n",
    "    return binary_rep\n",
    "\n",
    "# Example call\n",
    "number = 23\n",
    "print(f\"Fibonacci numbers that sum to {number} are: {fibonacci_representation(number)}\")\n",
    "print(f\"Fibonacci numeral system representation of {number} is: {fibonacci_numeral_system(number)}\")\n"
   ]
  },
  {
   "cell_type": "code",
   "execution_count": null,
   "metadata": {},
   "outputs": [],
   "source": [
    "def fibonacci_from_string(binary_str):\n",
    "    \"\"\"Converts a binary string in Fibonacci numeral system to a decimal number.\"\"\"\n",
    "    fibs = [1, 2]\n",
    "    while len(fibs) < len(binary_str):\n",
    "        fibs.append(fibs[-1] + fibs[-2])\n",
    "    \n",
    "    decimal_value = 0\n",
    "    for i, bit in enumerate(reversed(binary_str)):\n",
    "        if bit == '1':\n",
    "            decimal_value += fibs[i]\n",
    "    return decimal_value\n",
    "\n",
    "# Example call\n",
    "fibinary_str = \"101010\"\n",
    "print(f\"The decimal value of the Fibonacci numeral system string '{fibinary_str}' is: {fibonacci_from_string(fibinary_str)}\")\n"
   ]
  },
  {
   "cell_type": "code",
   "execution_count": null,
   "metadata": {},
   "outputs": [],
   "source": [
    "from math import log10, sqrt, floor\n",
    "\n",
    "def first_and_last_digits_fibonacci(n):\n",
    "    \"\"\"Finds the first and last digit of the nth Fibonacci number using approximation.\"\"\"\n",
    "    phi = (1 + sqrt(5)) / 2\n",
    "    log_fib_n = n * log10(phi) - 0.5 * log10(5)\n",
    "    first_digit = int(10 ** (log_fib_n - floor(log_fib_n)))\n",
    "    \n",
    "    # Last digit calculation using modulus of Pisano period 60 for Fibonacci modulo 10\n",
    "    pisano_period_10 = [0, 1]\n",
    "    for i in range(2, 60):\n",
    "        pisano_period_10.append((pisano_period_10[-1] + pisano_period_10[-2]) % 10)\n",
    "    last_digit = pisano_period_10[n % 60]\n",
    "    \n",
    "    return first_digit, last_digit\n",
    "\n",
    "# Example call\n",
    "n = 10001\n",
    "print(f\"The first and last digits of the {n}-th Fibonacci number are: {first_and_last_digits_fibonacci(n)}\")\n"
   ]
  }
 ],
 "metadata": {
  "kernelspec": {
   "display_name": "Python 3",
   "language": "python",
   "name": "python3"
  },
  "language_info": {
   "codemirror_mode": {
    "name": "ipython",
    "version": 3
   },
   "file_extension": ".py",
   "mimetype": "text/x-python",
   "name": "python",
   "nbconvert_exporter": "python",
   "pygments_lexer": "ipython3",
   "version": "3.11.5"
  }
 },
 "nbformat": 4,
 "nbformat_minor": 2
}
