{
 "cells": [
  {
   "cell_type": "code",
   "execution_count": 48,
   "metadata": {},
   "outputs": [],
   "source": [
    "import sympy as sp\n",
    "import math as mt\n"
   ]
  },
  {
   "cell_type": "markdown",
   "metadata": {},
   "source": [
    "# 1 \n",
    "Írjunk egy Python függvényt, amely meghatározza hogy két szám legnagyobb közös osztójának a meghatározsakor hány osztást végez az euklideszi algoritmus. Alkalmazzuk a függvényt, több a billentyűzetről beolvasott számpárra. A beolvasott számpárok között legyenek egymásutáni Fibonacci számok. Mit veszünk észre az egymásutáni Fibonacci számok esetében."
   ]
  },
  {
   "cell_type": "code",
   "execution_count": 18,
   "metadata": {},
   "outputs": [
    {
     "name": "stdout",
     "output_type": "stream",
     "text": [
      "gcd(21, 34) = 1 (7 numbers)\n",
      "gcd(21, 34) = 2 (4 numbers)\n",
      "gcd(21, 34) = 1 (4 numbers)\n",
      "gcd(21, 34) = 2 (4 numbers)\n",
      "gcd(21, 34) = 4 (3 numbers)\n"
     ]
    }
   ],
   "source": [
    "def myGcd(a, b):\n",
    "    nums = 0;\n",
    "    while b != 0:\n",
    "        a, b = b, a % b\n",
    "        nums +=1\n",
    "    return a, nums\n",
    "# myGcd(34, 21)\n",
    "\n",
    "while temp := input().split():\n",
    "    gcd, nums = myGcd(int(temp[0]), int(temp[1]))\n",
    "    print(f'gcd({a}, {b}) = {gcd} ({nums} steps)')\n"
   ]
  },
  {
   "cell_type": "markdown",
   "metadata": {},
   "source": [
    "# 2\n",
    "Az állományban számpárok vannak, írjunk programot, amelyben a Lamé tétel helyességét ellenőrizzük ezekre a számpárokra. (Lamé tétele: az eukleidészi algoritmus során végzett osztások száma nem lesz nagyobb, mint ötször a kisebbik szám számjegyeinek száma)."
   ]
  },
  {
   "cell_type": "code",
   "execution_count": 25,
   "metadata": {},
   "outputs": [
    {
     "name": "stdout",
     "output_type": "stream",
     "text": [
      "gcd(527, 1258) = 17 (7 steps) True\n",
      "gcd(228, 1056) = 12 (7 steps) True\n",
      "gcd(163961, 167181) = 7 (8 steps) True\n",
      "gcd(3892394, 239847) = 1 (10 steps) True\n",
      "gcd(34709, 100313) = 1 (9 steps) True\n",
      "gcd(666, 1414) = 2 (5 steps) True\n",
      "gcd(20785, 44350) = 5 (7 steps) True\n",
      "gcd(102, 222) = 6 (5 steps) True\n",
      "gcd(51, 87) = 3 (6 steps) True\n",
      "gcd(105, 399) = 21 (4 steps) True\n",
      "gcd(981, 1234) = 1 (7 steps) True\n",
      "gcd(9876543210, 123456789) = 9 (3 steps) False\n",
      "gcd(11111111111, 1000000001) = 1 (6 steps) False\n",
      "gcd(5, 8) = 1 (5 steps) True\n",
      "gcd(8, 13) = 1 (6 steps) True\n",
      "gcd(21, 34) = 1 (8 steps) True\n",
      "gcd(55, 89) = 1 (10 steps) True\n",
      "gcd(233, 144) = 1 (11 steps) True\n",
      "gcd(32951280099, 53316291173) = 1 (52 steps) True\n",
      "gcd(3311648143516982017180081, 5358359254990966640871840) = 1 (119 steps) True\n",
      "gcd(453973694165307953197296969697410619233826, 734544867157818093234908902110449296423351) = 1 (201 steps) True\n"
     ]
    }
   ],
   "source": [
    "with open('szamok.txt', 'r' )as f:\n",
    "    for line in f:\n",
    "        a, b = line.split()\n",
    "        a, b= int(a), int(b)\n",
    "        gcd, nums = myGcd(a, b)\n",
    "        smol = mt.log10(min(a, b) * 5) + 1\n",
    "        yes = smol < nums\n",
    "        print(f'gcd({a}, {b}) = {gcd} ({nums} steps) {yes}')  "
   ]
  },
  {
   "cell_type": "markdown",
   "metadata": {},
   "source": [
    "# Test log10 vs strlen"
   ]
  },
  {
   "cell_type": "code",
   "execution_count": 44,
   "metadata": {},
   "outputs": [
    {
     "name": "stdout",
     "output_type": "stream",
     "text": [
      "27\n"
     ]
    },
    {
     "data": {
      "text/plain": [
       "0.0"
      ]
     },
     "execution_count": 44,
     "metadata": {},
     "output_type": "execute_result"
    }
   ],
   "source": [
    "import time as tm\n",
    "start = tm.time()\n",
    "print(len(str(999888777666555444333222111)))\n",
    "tm.time() - start"
   ]
  },
  {
   "cell_type": "code",
   "execution_count": 45,
   "metadata": {},
   "outputs": [
    {
     "name": "stdout",
     "output_type": "stream",
     "text": [
      "27.99995169406792\n"
     ]
    },
    {
     "data": {
      "text/plain": [
       "0.0"
      ]
     },
     "execution_count": 45,
     "metadata": {},
     "output_type": "execute_result"
    }
   ],
   "source": [
    "import time as tm\n",
    "from math import log10\n",
    "start = tm.time()\n",
    "print(log10(999888777666555444333222111) + 1)\n",
    "tm.time() - start"
   ]
  },
  {
   "cell_type": "markdown",
   "metadata": {},
   "source": [
    "# 3\n",
    "Írjunk egy Python függvényt amely meghatározza\n",
    "x és 2·x,\n",
    "x és x·x,\n",
    "x és x + 1,\n",
    "x és x + 2\n",
    "legnagyobb közös osztóját, ahol x minden esetben bejárja az a és b közötti egész számokat. Az a és b számok értékét a billentyűzetről olvassuk be."
   ]
  },
  {
   "cell_type": "code",
   "execution_count": 61,
   "metadata": {},
   "outputs": [
    {
     "name": "stdout",
     "output_type": "stream",
     "text": [
      "x and 2x : 30\n",
      "x and x*x : 30\n",
      "x and x+1 : 1\n",
      "x and x+2 : 2\n",
      "-----------------------\n",
      "x and 2x : 31\n",
      "x and x*x : 31\n",
      "x and x+1 : 1\n",
      "x and x+2 : 1\n",
      "-----------------------\n",
      "x and 2x : 32\n",
      "x and x*x : 32\n",
      "x and x+1 : 1\n",
      "x and x+2 : 2\n",
      "-----------------------\n",
      "x and 2x : 33\n",
      "x and x*x : 33\n",
      "x and x+1 : 1\n",
      "x and x+2 : 1\n",
      "-----------------------\n",
      "x and 2x : 34\n",
      "x and x*x : 34\n",
      "x and x+1 : 1\n",
      "x and x+2 : 2\n",
      "-----------------------\n",
      "x and 2x : 35\n",
      "x and x*x : 35\n",
      "x and x+1 : 1\n",
      "x and x+2 : 1\n",
      "-----------------------\n",
      "x and 2x : 36\n",
      "x and x*x : 36\n",
      "x and x+1 : 1\n",
      "x and x+2 : 2\n",
      "-----------------------\n",
      "x and 2x : 37\n",
      "x and x*x : 37\n",
      "x and x+1 : 1\n",
      "x and x+2 : 1\n",
      "-----------------------\n",
      "x and 2x : 38\n",
      "x and x*x : 38\n",
      "x and x+1 : 1\n",
      "x and x+2 : 2\n",
      "-----------------------\n",
      "x and 2x : 39\n",
      "x and x*x : 39\n",
      "x and x+1 : 1\n",
      "x and x+2 : 1\n",
      "-----------------------\n"
     ]
    }
   ],
   "source": [
    "for i in range(int(input(\"a:\")), int(input(\"b:\"))):\n",
    "    print(f'x and 2x : {mt.gcd(i, 2*i)}')\n",
    "    print(f'x and x*x : {mt.gcd(i, i*i)}')\n",
    "    print(f'x and x+1 : {mt.gcd(i, i+1)}')\n",
    "    print(f'x and x+2 : {mt.gcd(i, i+2)}')\n",
    "    print(\"-----------------------\")"
   ]
  },
  {
   "cell_type": "markdown",
   "metadata": {},
   "source": [
    "# 7\n",
    "Írjunk Python függvényt, amely meghatározza egy kétismeretlenes diofantoszi egyenlet pozitív megoldásait, majd alkalmazzuk a függvényt a következő feladatok megoldásának a meghatározásához:\n",
    "- Egy diák hazaérkezik az USA-ba, Európából és beváltja az euróját és a svájci frankját dollárra. Összesen 17.06 dollárt kap. Tudva azt, hogy minden euró után 19 centet és minden svájci frank után 59 centet kapott, határozzuk meg mennyi pénze volt külön-külön mindkét pénznemből.\n",
    "- Egy forgalmazó 5100 euro értékben rendelt samsung és iphone telefonokat. Minden samsung 200 euroba, és minden iphone 500 euroba került. Maximálisan hány telefont rendelhetett a forgalmazó?\n",
    "- Egy postahivatalban 14 és 21 centes bélyegeket árulnak. Melyik bélyegből mennyit kell feltenni a csomagra, ha az összérték rendre 3.50, 4.00, 7.77 dollár.\n",
    "- Egy étteremben egy adag vegetáriánus saláta 8 ron, egy adag húsos saláta 11 ron. Ha egy csapat fogyasztása után az összszámla értéke rendre 777, 96 ron, mit tudunk mondani arra vonatkozóan, hogy hányan voltak a csapatból vegetáriánusok és hányan nem?\n"
   ]
  },
  {
   "cell_type": "code",
   "execution_count": null,
   "metadata": {},
   "outputs": [],
   "source": []
  }
 ],
 "metadata": {
  "kernelspec": {
   "display_name": "Python 3",
   "language": "python",
   "name": "python3"
  },
  "language_info": {
   "codemirror_mode": {
    "name": "ipython",
    "version": 3
   },
   "file_extension": ".py",
   "mimetype": "text/x-python",
   "name": "python",
   "nbconvert_exporter": "python",
   "pygments_lexer": "ipython3",
   "version": "3.11.5"
  }
 },
 "nbformat": 4,
 "nbformat_minor": 2
}
