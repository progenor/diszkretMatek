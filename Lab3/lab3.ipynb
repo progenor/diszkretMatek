{
 "cells": [
  {
   "cell_type": "code",
   "execution_count": 48,
   "metadata": {},
   "outputs": [],
   "source": [
    "import sympy as sp\n",
    "import math as mt\n"
   ]
  },
  {
   "cell_type": "markdown",
   "metadata": {},
   "source": [
    "# 1 \n",
    "Írjunk egy Python függvényt, amely meghatározza hogy két szám legnagyobb közös osztójának a meghatározsakor hány osztást végez az euklideszi algoritmus. Alkalmazzuk a függvényt, több a billentyűzetről beolvasott számpárra. A beolvasott számpárok között legyenek egymásutáni Fibonacci számok. Mit veszünk észre az egymásutáni Fibonacci számok esetében."
   ]
  },
  {
   "cell_type": "code",
   "execution_count": 18,
   "metadata": {},
   "outputs": [
    {
     "name": "stdout",
     "output_type": "stream",
     "text": [
      "gcd(21, 34) = 1 (7 numbers)\n",
      "gcd(21, 34) = 2 (4 numbers)\n",
      "gcd(21, 34) = 1 (4 numbers)\n",
      "gcd(21, 34) = 2 (4 numbers)\n",
      "gcd(21, 34) = 4 (3 numbers)\n"
     ]
    }
   ],
   "source": [
    "def myGcd(a, b):\n",
    "    nums = 0;\n",
    "    while b != 0:\n",
    "        a, b = b, a % b\n",
    "        nums +=1\n",
    "    return a, nums\n",
    "# myGcd(34, 21)\n",
    "\n",
    "while temp := input().split():\n",
    "    gcd, nums = myGcd(int(temp[0]), int(temp[1]))\n",
    "    print(f'gcd({a}, {b}) = {gcd} ({nums} steps)')\n"
   ]
  },
  {
   "cell_type": "markdown",
   "metadata": {},
   "source": [
    "# 2\n",
    "Az állományban számpárok vannak, írjunk programot, amelyben a Lamé tétel helyességét ellenőrizzük ezekre a számpárokra. (Lamé tétele: az eukleidészi algoritmus során végzett osztások száma nem lesz nagyobb, mint ötször a kisebbik szám számjegyeinek száma)."
   ]
  },
  {
   "cell_type": "code",
   "execution_count": 25,
   "metadata": {},
   "outputs": [
    {
     "name": "stdout",
     "output_type": "stream",
     "text": [
      "gcd(527, 1258) = 17 (7 steps) True\n",
      "gcd(228, 1056) = 12 (7 steps) True\n",
      "gcd(163961, 167181) = 7 (8 steps) True\n",
      "gcd(3892394, 239847) = 1 (10 steps) True\n",
      "gcd(34709, 100313) = 1 (9 steps) True\n",
      "gcd(666, 1414) = 2 (5 steps) True\n",
      "gcd(20785, 44350) = 5 (7 steps) True\n",
      "gcd(102, 222) = 6 (5 steps) True\n",
      "gcd(51, 87) = 3 (6 steps) True\n",
      "gcd(105, 399) = 21 (4 steps) True\n",
      "gcd(981, 1234) = 1 (7 steps) True\n",
      "gcd(9876543210, 123456789) = 9 (3 steps) False\n",
      "gcd(11111111111, 1000000001) = 1 (6 steps) False\n",
      "gcd(5, 8) = 1 (5 steps) True\n",
      "gcd(8, 13) = 1 (6 steps) True\n",
      "gcd(21, 34) = 1 (8 steps) True\n",
      "gcd(55, 89) = 1 (10 steps) True\n",
      "gcd(233, 144) = 1 (11 steps) True\n",
      "gcd(32951280099, 53316291173) = 1 (52 steps) True\n",
      "gcd(3311648143516982017180081, 5358359254990966640871840) = 1 (119 steps) True\n",
      "gcd(453973694165307953197296969697410619233826, 734544867157818093234908902110449296423351) = 1 (201 steps) True\n"
     ]
    }
   ],
   "source": [
    "with open('szamok.txt', 'r' )as f:\n",
    "    for line in f:\n",
    "        a, b = line.split()\n",
    "        a, b= int(a), int(b)\n",
    "        gcd, nums = myGcd(a, b)\n",
    "        smol = mt.log10(min(a, b) * 5) + 1\n",
    "        yes = smol < nums\n",
    "        print(f'gcd({a}, {b}) = {gcd} ({nums} steps) {yes}')  "
   ]
  },
  {
   "cell_type": "markdown",
   "metadata": {},
   "source": [
    "# Test log10 vs strlen"
   ]
  },
  {
   "cell_type": "code",
   "execution_count": 44,
   "metadata": {},
   "outputs": [
    {
     "name": "stdout",
     "output_type": "stream",
     "text": [
      "27\n"
     ]
    },
    {
     "data": {
      "text/plain": [
       "0.0"
      ]
     },
     "execution_count": 44,
     "metadata": {},
     "output_type": "execute_result"
    }
   ],
   "source": [
    "import time as tm\n",
    "start = tm.time()\n",
    "print(len(str(999888777666555444333222111)))\n",
    "tm.time() - start"
   ]
  },
  {
   "cell_type": "code",
   "execution_count": 45,
   "metadata": {},
   "outputs": [
    {
     "name": "stdout",
     "output_type": "stream",
     "text": [
      "27.99995169406792\n"
     ]
    },
    {
     "data": {
      "text/plain": [
       "0.0"
      ]
     },
     "execution_count": 45,
     "metadata": {},
     "output_type": "execute_result"
    }
   ],
   "source": [
    "import time as tm\n",
    "from math import log10\n",
    "start = tm.time()\n",
    "print(log10(999888777666555444333222111) + 1)\n",
    "tm.time() - start"
   ]
  },
  {
   "cell_type": "markdown",
   "metadata": {},
   "source": [
    "# 3\n",
    "Írjunk egy Python függvényt amely meghatározza\n",
    "x és 2·x,\n",
    "x és x·x,\n",
    "x és x + 1,\n",
    "x és x + 2\n",
    "legnagyobb közös osztóját, ahol x minden esetben bejárja az a és b közötti egész számokat. Az a és b számok értékét a billentyűzetről olvassuk be."
   ]
  },
  {
   "cell_type": "code",
   "execution_count": 61,
   "metadata": {},
   "outputs": [
    {
     "name": "stdout",
     "output_type": "stream",
     "text": [
      "x and 2x : 30\n",
      "x and x*x : 30\n",
      "x and x+1 : 1\n",
      "x and x+2 : 2\n",
      "-----------------------\n",
      "x and 2x : 31\n",
      "x and x*x : 31\n",
      "x and x+1 : 1\n",
      "x and x+2 : 1\n",
      "-----------------------\n",
      "x and 2x : 32\n",
      "x and x*x : 32\n",
      "x and x+1 : 1\n",
      "x and x+2 : 2\n",
      "-----------------------\n",
      "x and 2x : 33\n",
      "x and x*x : 33\n",
      "x and x+1 : 1\n",
      "x and x+2 : 1\n",
      "-----------------------\n",
      "x and 2x : 34\n",
      "x and x*x : 34\n",
      "x and x+1 : 1\n",
      "x and x+2 : 2\n",
      "-----------------------\n",
      "x and 2x : 35\n",
      "x and x*x : 35\n",
      "x and x+1 : 1\n",
      "x and x+2 : 1\n",
      "-----------------------\n",
      "x and 2x : 36\n",
      "x and x*x : 36\n",
      "x and x+1 : 1\n",
      "x and x+2 : 2\n",
      "-----------------------\n",
      "x and 2x : 37\n",
      "x and x*x : 37\n",
      "x and x+1 : 1\n",
      "x and x+2 : 1\n",
      "-----------------------\n",
      "x and 2x : 38\n",
      "x and x*x : 38\n",
      "x and x+1 : 1\n",
      "x and x+2 : 2\n",
      "-----------------------\n",
      "x and 2x : 39\n",
      "x and x*x : 39\n",
      "x and x+1 : 1\n",
      "x and x+2 : 1\n",
      "-----------------------\n"
     ]
    }
   ],
   "source": [
    "for i in range(int(input(\"a:\")), int(input(\"b:\"))):\n",
    "    print(f'x and 2x : {mt.gcd(i, 2*i)}')\n",
    "    print(f'x and x*x : {mt.gcd(i, i*i)}')\n",
    "    print(f'x and x+1 : {mt.gcd(i, i+1)}')\n",
    "    print(f'x and x+2 : {mt.gcd(i, i+2)}')\n",
    "    print(\"-----------------------\")"
   ]
  },
  {
   "cell_type": "markdown",
   "metadata": {},
   "source": [
    "# 7\n",
    "Írjunk Python függvényt, amely meghatározza egy kétismeretlenes diofantoszi egyenlet pozitív megoldásait, majd alkalmazzuk a függvényt a következő feladatok megoldásának a meghatározásához:\n",
    "- Egy diák hazaérkezik az USA-ba, Európából és beváltja az euróját és a svájci frankját dollárra. Összesen 17.06 dollárt kap. Tudva azt, hogy minden euró után 19 centet és minden svájci frank után 59 centet kapott, határozzuk meg mennyi pénze volt külön-külön mindkét pénznemből.\n",
    "- Egy forgalmazó 5100 euro értékben rendelt samsung és iphone telefonokat. Minden samsung 200 euroba, és minden iphone 500 euroba került. Maximálisan hány telefont rendelhetett a forgalmazó?\n",
    "- Egy postahivatalban 14 és 21 centes bélyegeket árulnak. Melyik bélyegből mennyit kell feltenni a csomagra, ha az összérték rendre 3.50, 4.00, 7.77 dollár.\n",
    "- Egy étteremben egy adag vegetáriánus saláta 8 ron, egy adag húsos saláta 11 ron. Ha egy csapat fogyasztása után az összszámla értéke rendre 777, 96 ron, mit tudunk mondani arra vonatkozóan, hogy hányan voltak a csapatból vegetáriánusok és hányan nem?\n"
   ]
  },
  {
   "cell_type": "code",
   "execution_count": 67,
   "metadata": {},
   "outputs": [
    {
     "data": {
      "text/plain": [
       "(1, -3, 1)"
      ]
     },
     "execution_count": 67,
     "metadata": {},
     "output_type": "execute_result"
    }
   ],
   "source": [
    "def euk(a ,b):\n",
    "    x1, y1, x2, y2 = 1,0,0,1\n",
    "    while True:\n",
    "        temp = a%b\n",
    "        if temp == 0:\n",
    "            return b, x1, y1\n",
    "        q = a//b\n",
    "        a = b\n",
    "        b = temp\n",
    "        x = x1-q*x2\n",
    "        y = y1-q*y2\n",
    "        x1, y1, x2, y2 = x2, y2, x, y        \n",
    "        \n",
    "euk(19, 59)"
   ]
  },
  {
   "cell_type": "code",
   "execution_count": 69,
   "metadata": {},
   "outputs": [
    {
     "name": "stdout",
     "output_type": "stream",
     "text": [
      "Problem 1: Currency exchange\n",
      "Euros: 37, Swiss Francs: 17\n",
      "\n",
      "Problem 2: Phone order\n",
      "Samsung: 3, iPhone: 9\n",
      "Samsung: 8, iPhone: 7\n",
      "Samsung: 13, iPhone: 5\n",
      "Samsung: 18, iPhone: 3\n",
      "Samsung: 23, iPhone: 1\n",
      "\n",
      "Problem 3: Stamps\n",
      "Amount: 3.50 dollars\n",
      "14-cent stamps: 1, 21-cent stamps: 16\n",
      "14-cent stamps: 4, 21-cent stamps: 14\n",
      "14-cent stamps: 7, 21-cent stamps: 12\n",
      "14-cent stamps: 10, 21-cent stamps: 10\n",
      "14-cent stamps: 13, 21-cent stamps: 8\n",
      "14-cent stamps: 16, 21-cent stamps: 6\n",
      "14-cent stamps: 19, 21-cent stamps: 4\n",
      "14-cent stamps: 22, 21-cent stamps: 2\n",
      "14-cent stamps: 25, 21-cent stamps: 0\n",
      "Amount: 4.00 dollars\n",
      "Amount: 7.77 dollars\n",
      "14-cent stamps: 0, 21-cent stamps: 37\n",
      "14-cent stamps: 3, 21-cent stamps: 35\n",
      "14-cent stamps: 6, 21-cent stamps: 33\n",
      "14-cent stamps: 9, 21-cent stamps: 31\n",
      "14-cent stamps: 12, 21-cent stamps: 29\n",
      "14-cent stamps: 15, 21-cent stamps: 27\n",
      "14-cent stamps: 18, 21-cent stamps: 25\n",
      "14-cent stamps: 21, 21-cent stamps: 23\n",
      "14-cent stamps: 24, 21-cent stamps: 21\n",
      "14-cent stamps: 27, 21-cent stamps: 19\n",
      "14-cent stamps: 30, 21-cent stamps: 17\n",
      "14-cent stamps: 33, 21-cent stamps: 15\n",
      "14-cent stamps: 36, 21-cent stamps: 13\n",
      "14-cent stamps: 39, 21-cent stamps: 11\n",
      "14-cent stamps: 42, 21-cent stamps: 9\n",
      "14-cent stamps: 45, 21-cent stamps: 7\n",
      "14-cent stamps: 48, 21-cent stamps: 5\n",
      "14-cent stamps: 51, 21-cent stamps: 3\n",
      "14-cent stamps: 54, 21-cent stamps: 1\n",
      "\n",
      "Problem 4: Restaurant bill\n",
      "Total bill: 777 ron\n",
      "Vegetarian salads: 5, Meat salads: 67\n",
      "Vegetarian salads: 16, Meat salads: 59\n",
      "Vegetarian salads: 27, Meat salads: 51\n",
      "Vegetarian salads: 38, Meat salads: 43\n",
      "Vegetarian salads: 49, Meat salads: 35\n",
      "Vegetarian salads: 60, Meat salads: 27\n",
      "Vegetarian salads: 71, Meat salads: 19\n",
      "Vegetarian salads: 82, Meat salads: 11\n",
      "Vegetarian salads: 93, Meat salads: 3\n",
      "Total bill: 96 ron\n",
      "Vegetarian salads: 1, Meat salads: 8\n",
      "Vegetarian salads: 12, Meat salads: 0\n"
     ]
    }
   ],
   "source": [
    "\n",
    "\n",
    "def diophantine(a, b, c):\n",
    "    solutions = []\n",
    "    for x in range(c // a + 1):\n",
    "        if (c - a * x) % b == 0:\n",
    "            y = (c - a * x) // b\n",
    "            if y >= 0:\n",
    "                solutions.append((x, y))\n",
    "    return solutions\n",
    "\n",
    "# Problem 1: Currency exchange\n",
    "print(\"Problem 1: Currency exchange\")\n",
    "solutions = diophantine(19, 59, 1706)\n",
    "for euro, frank in solutions:\n",
    "    print(f\"Euros: {euro}, Swiss Francs: {frank}\")\n",
    "\n",
    "# Problem 2: Phone order\n",
    "print(\"\\nProblem 2: Phone order\")\n",
    "solutions = diophantine(200, 500, 5100)\n",
    "for samsung, iphone in solutions:\n",
    "    print(f\"Samsung: {samsung}, iPhone: {iphone}\")\n",
    "\n",
    "# Problem 3: Stamps\n",
    "print(\"\\nProblem 3: Stamps\")\n",
    "amounts = [350, 400, 777]\n",
    "for amount in amounts:\n",
    "    solutions = diophantine(14, 21, amount)\n",
    "    print(f\"Amount: {amount / 100:.2f} dollars\")\n",
    "    for stamp14, stamp21 in solutions:\n",
    "        print(f\"14-cent stamps: {stamp14}, 21-cent stamps: {stamp21}\")\n",
    "\n",
    "# Problem 4: Restaurant bill\n",
    "print(\"\\nProblem 4: Restaurant bill\")\n",
    "amounts = [777, 96]\n",
    "for amount in amounts:\n",
    "    solutions = diophantine(8, 11, amount)\n",
    "    print(f\"Total bill: {amount} ron\")\n",
    "    for veg, meat in solutions:\n",
    "        print(f\"Vegetarian salads: {veg}, Meat salads: {meat}\")"
   ]
  }
 ],
 "metadata": {
  "kernelspec": {
   "display_name": "Python 3",
   "language": "python",
   "name": "python3"
  },
  "language_info": {
   "codemirror_mode": {
    "name": "ipython",
    "version": 3
   },
   "file_extension": ".py",
   "mimetype": "text/x-python",
   "name": "python",
   "nbconvert_exporter": "python",
   "pygments_lexer": "ipython3",
   "version": "3.11.5"
  }
 },
 "nbformat": 4,
 "nbformat_minor": 2
}
